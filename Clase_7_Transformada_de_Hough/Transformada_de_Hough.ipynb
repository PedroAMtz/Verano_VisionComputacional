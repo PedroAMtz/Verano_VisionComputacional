{
 "cells": [
  {
   "cell_type": "markdown",
   "id": "372e0e92",
   "metadata": {},
   "source": [
    "# Tema 7: Transformada de Hough"
   ]
  },
  {
   "cell_type": "code",
   "execution_count": null,
   "id": "d6bca459",
   "metadata": {},
   "outputs": [],
   "source": []
  }
 ],
 "metadata": {
  "kernelspec": {
   "display_name": "myenv",
   "language": "python",
   "name": "myenv"
  },
  "language_info": {
   "codemirror_mode": {
    "name": "ipython",
    "version": 3
   },
   "file_extension": ".py",
   "mimetype": "text/x-python",
   "name": "python",
   "nbconvert_exporter": "python",
   "pygments_lexer": "ipython3",
   "version": "3.10.11"
  }
 },
 "nbformat": 4,
 "nbformat_minor": 5
}
