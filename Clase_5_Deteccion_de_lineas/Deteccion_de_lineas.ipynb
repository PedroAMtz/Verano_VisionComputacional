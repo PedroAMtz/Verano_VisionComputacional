{
 "cells": [
  {
   "cell_type": "markdown",
   "id": "dcad1116",
   "metadata": {},
   "source": [
    "# Tema 5: Detección de líneas"
   ]
  },
  {
   "cell_type": "markdown",
   "id": "c7b12452",
   "metadata": {},
   "source": [
    "En este cuaderno se desarrollan los ejemplos prácticos referentes al tema de expocisión, la intención es conocer algunas funcionalidades y herramientas que se utilizan con regularidad en procesos de visión computacional, específicamente para la detección de líneas."
   ]
  },
  {
   "cell_type": "markdown",
   "id": "aa99b8af",
   "metadata": {},
   "source": [
    "**Objetivos**\n",
    "* Implementar de manera práctica filtros en imágenes para la detección de líneas.\n",
    "* Utilizar OpenCV como principal líbreria y conocer algunas de sus funciones.\n",
    "* Analizar el proceso matemático que utilizan los filtros de detección de líneas."
   ]
  },
  {
   "cell_type": "code",
   "execution_count": null,
   "id": "51d49f69",
   "metadata": {},
   "outputs": [],
   "source": []
  }
 ],
 "metadata": {
  "kernelspec": {
   "display_name": "myenv",
   "language": "python",
   "name": "myenv"
  },
  "language_info": {
   "codemirror_mode": {
    "name": "ipython",
    "version": 3
   },
   "file_extension": ".py",
   "mimetype": "text/x-python",
   "name": "python",
   "nbconvert_exporter": "python",
   "pygments_lexer": "ipython3",
   "version": "3.10.11"
  }
 },
 "nbformat": 4,
 "nbformat_minor": 5
}
